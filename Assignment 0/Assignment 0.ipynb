{
 "cells": [
  {
   "cell_type": "code",
   "id": "initial_id",
   "metadata": {
    "collapsed": true
   },
   "source": [
    "from array import array\n",
    "\n",
    "import numpy as np\n",
    "from matplotlib.pyplot import xlabel\n",
    "\n",
    "list = np.random.uniform(low=-1, high=1, size=5)\n",
    "print(list)\n",
    "print()\n",
    "\n",
    "mean = np.mean(list)\n",
    "print(\"Mean is: \" + str(mean))\n",
    "print()\n",
    "\n",
    "\n",
    "std_dev = np.std(list)\n",
    "print(\"Standard Deviation is : \" + str(std_dev))\n",
    "print()\n",
    "\n",
    "y = np.array([1])\n",
    "vertical_list = list.reshape(-1, 1)\n",
    "print(vertical_list)\n",
    "print()\n",
    "\n",
    "addition = list + (5, 5, 5, 5, 5)\n",
    "print(addition)\n",
    "print()\n",
    "\n",
    "addition_vertical = vertical_list + 5\n",
    "print(addition_vertical)\n",
    "print()\n",
    "\n",
    "dot_product = np.dot(list, vertical_list)\n",
    "print(\"Dot Product is: \" + str(dot_product))"
   ],
   "outputs": [],
   "execution_count": null
  },
  {
   "metadata": {},
   "cell_type": "code",
   "source": [
    "import matplotlib.pyplot as plt\n",
    "\n",
    "domain = np.arange(0, 100.1, 0.1) \n",
    "print(domain)\n",
    "print()\n",
    "\n",
    "sine_range = np.sin(domain)\n",
    "print(sine_range)\n",
    "print()\n",
    "\n",
    "fig, ax = plt.subplots()\n",
    "ax.plot(domain, sine_range)\n",
    "\n",
    "ax.set(xlabel='increments of 0.1', ylabel='sine of x', title='Sine Wave')\n",
    "ax.grid()\n",
    "\n",
    "fig.savefig('sine_wave.png')\n",
    "plt.show()\n"
   ],
   "id": "24d60e7f9c726e76",
   "outputs": [],
   "execution_count": null
  }
 ],
 "metadata": {
  "kernelspec": {
   "display_name": "Python 3",
   "language": "python",
   "name": "python3"
  },
  "language_info": {
   "codemirror_mode": {
    "name": "ipython",
    "version": 2
   },
   "file_extension": ".py",
   "mimetype": "text/x-python",
   "name": "python",
   "nbconvert_exporter": "python",
   "pygments_lexer": "ipython2",
   "version": "2.7.6"
  }
 },
 "nbformat": 4,
 "nbformat_minor": 5
}
